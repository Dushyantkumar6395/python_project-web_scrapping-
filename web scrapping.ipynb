{
 "cells": [
  {
   "cell_type": "code",
   "execution_count": 51,
   "id": "ada43d90-8496-4569-87b6-439f510b0325",
   "metadata": {},
   "outputs": [],
   "source": [
    "import requests\n",
    "from bs4 import BeautifulSoup as bs\n",
    "from urllib.request import urlopen as uReq\n",
    "import logging"
   ]
  },
  {
   "cell_type": "code",
   "execution_count": 144,
   "id": "454d4d63-ad71-4d97-a511-da17513be3ec",
   "metadata": {},
   "outputs": [],
   "source": [
    "flipkart_url = \"https://www.flipkart.com/search?q=\" + \"iphone12pro\""
   ]
  },
  {
   "cell_type": "code",
   "execution_count": 145,
   "id": "39e688b6-7e32-449f-9802-5ce7ad17c903",
   "metadata": {},
   "outputs": [
    {
     "data": {
      "text/plain": [
       "'https://www.flipkart.com/search?q=iphone12pro'"
      ]
     },
     "execution_count": 145,
     "metadata": {},
     "output_type": "execute_result"
    }
   ],
   "source": [
    "flipkart_url\n"
   ]
  },
  {
   "cell_type": "code",
   "execution_count": 146,
   "id": "d9850983-b20e-411e-a12b-f1b52154d1d4",
   "metadata": {},
   "outputs": [],
   "source": [
    "urlclient = uReq(flipkart_url)"
   ]
  },
  {
   "cell_type": "code",
   "execution_count": 147,
   "id": "723987b3-8e8d-4218-ab1e-03e2dcad8edc",
   "metadata": {},
   "outputs": [
    {
     "data": {
      "text/plain": [
       "<http.client.HTTPResponse at 0x7f83988cbeb0>"
      ]
     },
     "execution_count": 147,
     "metadata": {},
     "output_type": "execute_result"
    }
   ],
   "source": [
    "urlclient"
   ]
  },
  {
   "cell_type": "code",
   "execution_count": 148,
   "id": "d050e768-96af-4002-ae9b-629f5137e3e1",
   "metadata": {},
   "outputs": [],
   "source": [
    "flipkart_page = urlclient.read()"
   ]
  },
  {
   "cell_type": "code",
   "execution_count": 149,
   "id": "37d49e08-a659-406c-82ab-0a057ed4b12d",
   "metadata": {},
   "outputs": [],
   "source": [
    "flipkart_html = bs(flipkart_page,'html.parser')"
   ]
  },
  {
   "cell_type": "code",
   "execution_count": 150,
   "id": "b7ed3f20-5172-476d-bcb9-41ff585f3a25",
   "metadata": {},
   "outputs": [
    {
     "data": {
      "text/plain": [
       "'https://www.flipkart.com/apple-iphone-12-pro-max-silver-512-gb/p/itm5d3d37892544f?pid=MOBFWBYZW38NGPNM&amp;lid=LSTMOBFWBYZW38NGPNMW4SVPI&amp;marketplace=FLIPKART&amp;q=iphone12pro&amp;store=tyy%2F4io&amp;srno=s_1_1&amp;otracker=search&amp;fm=organic&amp;iid=99090e37-26c7-42f3-a90a-bd549365e29a.MOBFWBYZW38NGPNM.SEARCH&amp;ppt=None&amp;ppn=None&amp;ssid=p9ye9lnkb40000001694270126492&amp;qH=712933e6bd68e7b9'"
      ]
     },
     "execution_count": 150,
     "metadata": {},
     "output_type": "execute_result"
    }
   ],
   "source": [
    " \"https://www.flipkart.com/\"+\"apple-iphone-12-pro-max-silver-512-gb/p/itm5d3d37892544f?pid=MOBFWBYZW38NGPNM&amp;lid=LSTMOBFWBYZW38NGPNMW4SVPI&amp;marketplace=FLIPKART&amp;q=iphone12pro&amp;store=tyy%2F4io&amp;srno=s_1_1&amp;otracker=search&amp;fm=organic&amp;iid=99090e37-26c7-42f3-a90a-bd549365e29a.MOBFWBYZW38NGPNM.SEARCH&amp;ppt=None&amp;ppn=None&amp;ssid=p9ye9lnkb40000001694270126492&amp;qH=712933e6bd68e7b9\""
   ]
  },
  {
   "cell_type": "code",
   "execution_count": 151,
   "id": "d76cec34-ae33-4070-bae5-8baf5829def3",
   "metadata": {},
   "outputs": [],
   "source": [
    "bigbox = flipkart_html.findAll(\"div\" , {\"class\":\"_1AtVbE col-12-12\"})"
   ]
  },
  {
   "cell_type": "code",
   "execution_count": 152,
   "id": "214bdf5c-357d-4e60-8e4b-413b9a583c3b",
   "metadata": {},
   "outputs": [
    {
     "data": {
      "text/plain": [
       "29"
      ]
     },
     "execution_count": 152,
     "metadata": {},
     "output_type": "execute_result"
    }
   ],
   "source": [
    "len(bigbox)"
   ]
  },
  {
   "cell_type": "code",
   "execution_count": 153,
   "id": "755d5796-951e-4db3-82dd-18cd12221cbf",
   "metadata": {},
   "outputs": [],
   "source": [
    "del bigbox[0:3]"
   ]
  },
  {
   "cell_type": "code",
   "execution_count": 154,
   "id": "2df75016-28ac-4504-83da-3306b60372df",
   "metadata": {},
   "outputs": [],
   "source": [
    "productlink = \"https://www.flipkart.com\" + bigbox[3].div.div.div.a['href']"
   ]
  },
  {
   "cell_type": "code",
   "execution_count": 155,
   "id": "fe4bc138-0c3d-4142-bcc6-09e0856d5af7",
   "metadata": {},
   "outputs": [],
   "source": [
    "product_req = requests.get(productlink)"
   ]
  },
  {
   "cell_type": "code",
   "execution_count": 156,
   "id": "51b1f10d-e0bc-4bf4-b5a5-13f648d99061",
   "metadata": {},
   "outputs": [
    {
     "data": {
      "text/plain": [
       "'https://www.flipkart.com/apple-iphone-12-pro-graphite-512-gb/p/itmdf0ffb4f2150f?pid=MOBFWBYZ4ZZ5VUQD&lid=LSTMOBFWBYZ4ZZ5VUQDSMPMJK&marketplace=FLIPKART&q=iphone12pro&store=tyy%2F4io&srno=s_1_5&otracker=search&fm=organic&iid=35c5d552-cc8c-484f-90c0-18165c6ac87d.MOBFWBYZ4ZZ5VUQD.SEARCH&ppt=None&ppn=None&ssid=trayitpan40000001694629433959&qH=712933e6bd68e7b9'"
      ]
     },
     "execution_count": 156,
     "metadata": {},
     "output_type": "execute_result"
    }
   ],
   "source": [
    "productlink"
   ]
  },
  {
   "cell_type": "code",
   "execution_count": 157,
   "id": "36a0f659-443d-4e53-98f0-a0f57fdf6cf5",
   "metadata": {},
   "outputs": [],
   "source": [
    "product_html = bs(product_req.text,'html.parser')"
   ]
  },
  {
   "cell_type": "code",
   "execution_count": 158,
   "id": "d670b182-3ab1-4c9e-a058-ae2754770f7c",
   "metadata": {},
   "outputs": [],
   "source": [
    "comment_box = product_html.find_all(\"div\",{\"class\":\"_16PBlm\"})"
   ]
  },
  {
   "cell_type": "code",
   "execution_count": 159,
   "id": "ef85bd02-b0e6-4c5d-b7f7-4fe9c63ccafa",
   "metadata": {},
   "outputs": [
    {
     "data": {
      "text/plain": [
       "11"
      ]
     },
     "execution_count": 159,
     "metadata": {},
     "output_type": "execute_result"
    }
   ],
   "source": [
    "len(comment_box)"
   ]
  },
  {
   "cell_type": "markdown",
   "id": "d50ce592-3c19-4df1-801d-1880485ca880",
   "metadata": {},
   "source": [
    "CUSTOMER NAME"
   ]
  },
  {
   "cell_type": "code",
   "execution_count": 160,
   "id": "dc1a93db-4914-4f13-a5cc-66bddd998128",
   "metadata": {},
   "outputs": [
    {
     "name": "stdout",
     "output_type": "stream",
     "text": [
      "Rajkumar tiwari\n",
      "Kirti Yadav\n",
      "Tushar Saini\n",
      "Pankaj Mahor\n",
      "Aasheesh Vats\n",
      "Vinit Kar\n",
      "Rahul  Meena\n",
      "Salman Rahman\n",
      "Anveer arora\n",
      "Harsh Singh\n"
     ]
    },
    {
     "ename": "AttributeError",
     "evalue": "'NoneType' object has no attribute 'div'",
     "output_type": "error",
     "traceback": [
      "\u001b[0;31m---------------------------------------------------------------------------\u001b[0m",
      "\u001b[0;31mAttributeError\u001b[0m                            Traceback (most recent call last)",
      "Cell \u001b[0;32mIn[160], line 2\u001b[0m\n\u001b[1;32m      1\u001b[0m \u001b[38;5;28;01mfor\u001b[39;00m i \u001b[38;5;129;01min\u001b[39;00m comment_box:\n\u001b[0;32m----> 2\u001b[0m     \u001b[38;5;28mprint\u001b[39m(\u001b[43mi\u001b[49m\u001b[38;5;241;43m.\u001b[39;49m\u001b[43mdiv\u001b[49m\u001b[38;5;241;43m.\u001b[39;49m\u001b[43mdiv\u001b[49m\u001b[38;5;241m.\u001b[39mfind_all(\u001b[38;5;124m'\u001b[39m\u001b[38;5;124mp\u001b[39m\u001b[38;5;124m'\u001b[39m,{\u001b[38;5;124m\"\u001b[39m\u001b[38;5;124mclass\u001b[39m\u001b[38;5;124m\"\u001b[39m: \u001b[38;5;124m\"\u001b[39m\u001b[38;5;124m_2sc7ZR _2V5EHH\u001b[39m\u001b[38;5;124m\"\u001b[39m})[\u001b[38;5;241m0\u001b[39m]\u001b[38;5;241m.\u001b[39mtext)\n",
      "\u001b[0;31mAttributeError\u001b[0m: 'NoneType' object has no attribute 'div'"
     ]
    }
   ],
   "source": [
    "for i in comment_box:\n",
    "    print(i.div.div.find_all('p',{\"class\": \"_2sc7ZR _2V5EHH\"})[0].text)"
   ]
  },
  {
   "cell_type": "markdown",
   "id": "c839f9b6-e1a6-43ef-b6b5-1f1665fee616",
   "metadata": {},
   "source": [
    "CUSTOMER RATTING"
   ]
  },
  {
   "cell_type": "code",
   "execution_count": 161,
   "id": "cc9c1843-5525-45da-a252-83e7cbbb0716",
   "metadata": {},
   "outputs": [
    {
     "name": "stdout",
     "output_type": "stream",
     "text": [
      "5\n",
      "3\n",
      "5\n",
      "5\n",
      "5\n",
      "5\n",
      "5\n",
      "5\n",
      "5\n",
      "5\n"
     ]
    },
    {
     "ename": "AttributeError",
     "evalue": "'NoneType' object has no attribute 'div'",
     "output_type": "error",
     "traceback": [
      "\u001b[0;31m---------------------------------------------------------------------------\u001b[0m",
      "\u001b[0;31mAttributeError\u001b[0m                            Traceback (most recent call last)",
      "Cell \u001b[0;32mIn[161], line 2\u001b[0m\n\u001b[1;32m      1\u001b[0m \u001b[38;5;28;01mfor\u001b[39;00m i \u001b[38;5;129;01min\u001b[39;00m comment_box:\n\u001b[0;32m----> 2\u001b[0m     \u001b[38;5;28mprint\u001b[39m(\u001b[43mi\u001b[49m\u001b[38;5;241;43m.\u001b[39;49m\u001b[43mdiv\u001b[49m\u001b[38;5;241;43m.\u001b[39;49m\u001b[43mdiv\u001b[49m\u001b[38;5;241m.\u001b[39mdiv\u001b[38;5;241m.\u001b[39mdiv\u001b[38;5;241m.\u001b[39mtext)\n",
      "\u001b[0;31mAttributeError\u001b[0m: 'NoneType' object has no attribute 'div'"
     ]
    }
   ],
   "source": [
    "for i in comment_box:\n",
    "    print(i.div.div.div.div.text)"
   ]
  },
  {
   "cell_type": "markdown",
   "id": "c2921fbc-2890-4cdd-b7e2-1f8bd2a31249",
   "metadata": {},
   "source": [
    "CUSTOMER RATTING"
   ]
  },
  {
   "cell_type": "code",
   "execution_count": 162,
   "id": "a3ece02f-990c-4513-b004-0ace2078c24c",
   "metadata": {},
   "outputs": [
    {
     "name": "stdout",
     "output_type": "stream",
     "text": [
      "Simply awesome\n",
      "Nice\n",
      "Fabulous!\n",
      "Awesome\n",
      "Fabulous!\n",
      "Best in the market!\n",
      "Highly recommended\n",
      "Fabulous!\n",
      "Awesome\n",
      "Classy product\n"
     ]
    },
    {
     "ename": "AttributeError",
     "evalue": "'NoneType' object has no attribute 'div'",
     "output_type": "error",
     "traceback": [
      "\u001b[0;31m---------------------------------------------------------------------------\u001b[0m",
      "\u001b[0;31mAttributeError\u001b[0m                            Traceback (most recent call last)",
      "Cell \u001b[0;32mIn[162], line 2\u001b[0m\n\u001b[1;32m      1\u001b[0m \u001b[38;5;28;01mfor\u001b[39;00m i \u001b[38;5;129;01min\u001b[39;00m comment_box:\n\u001b[0;32m----> 2\u001b[0m     \u001b[38;5;28mprint\u001b[39m(\u001b[43mi\u001b[49m\u001b[38;5;241;43m.\u001b[39;49m\u001b[43mdiv\u001b[49m\u001b[38;5;241;43m.\u001b[39;49m\u001b[43mdiv\u001b[49m\u001b[38;5;241m.\u001b[39mdiv\u001b[38;5;241m.\u001b[39mp\u001b[38;5;241m.\u001b[39mtext)\n",
      "\u001b[0;31mAttributeError\u001b[0m: 'NoneType' object has no attribute 'div'"
     ]
    }
   ],
   "source": [
    "for i in comment_box:\n",
    "    print(i.div.div.div.p.text)"
   ]
  },
  {
   "cell_type": "markdown",
   "id": "930dd068-ed15-4451-b692-3076d4aa92c6",
   "metadata": {},
   "source": [
    "COMMENT BY THE CUSTOMERS"
   ]
  },
  {
   "cell_type": "code",
   "execution_count": 163,
   "id": "8714e398-e2b6-4c6b-9e0e-1e0fe44c3795",
   "metadata": {},
   "outputs": [
    {
     "name": "stdout",
     "output_type": "stream",
     "text": [
      "\n",
      "indeed a great phone feels premium in hand but battery life is low\n",
      "\n",
      "Its just Perfect . Prices are a bit high .\n",
      "\n",
      "The camera is mind-blowing I love it 😘\n",
      "\n",
      "Best designed iPhone\n",
      "\n",
      "A masterpiece to cherish.\n",
      "\n",
      "I have been using iPhones for years, but the fast charging and battery on this one is brilliant. Like i always say, iPhone is more of a jewellery than a phone. But this one has some power-packed features and an awesome camera. So if you can afford it, buy it!\n",
      "\n",
      "I like the most in this phone:-1. I like the size of this phone because it is easy to hold.2. The camera quality of this phone is admirable. 3. Battery backup is good.4. The new design and colour  of this phone also a plus point of its beauty.5. These  points are my personal which i like most in this phone.\n",
      "\n",
      "This one of the best iPhone ever built, though battery backup isn’t good. But the user experience is brilliant.Upgraded from 11 Pro.\n",
      "\n",
      "I purchased this phone 4 my wife.i give her surprised gift.she was so happy that her tears came when she saw this gift☺️.Some reviews after 4 days use1. Looks awesome 👌2. Camera quality superb❤️3. Battery avarage normal🤟4. According 2 price its below avarage 🤏5. Performance no 1👍\n",
      "\n",
      "Premium quality iPhone💯\n",
      "\n"
     ]
    },
    {
     "ename": "AttributeError",
     "evalue": "'NoneType' object has no attribute 'div'",
     "output_type": "error",
     "traceback": [
      "\u001b[0;31m---------------------------------------------------------------------------\u001b[0m",
      "\u001b[0;31mAttributeError\u001b[0m                            Traceback (most recent call last)",
      "Cell \u001b[0;32mIn[163], line 3\u001b[0m\n\u001b[1;32m      1\u001b[0m \u001b[38;5;28;01mfor\u001b[39;00m i \u001b[38;5;129;01min\u001b[39;00m comment_box:\n\u001b[1;32m      2\u001b[0m     \u001b[38;5;28mprint\u001b[39m(\u001b[38;5;124m'\u001b[39m\u001b[38;5;124m'\u001b[39m)\n\u001b[0;32m----> 3\u001b[0m     \u001b[38;5;28mprint\u001b[39m(\u001b[43mi\u001b[49m\u001b[38;5;241;43m.\u001b[39;49m\u001b[43mdiv\u001b[49m\u001b[38;5;241;43m.\u001b[39;49m\u001b[43mdiv\u001b[49m\u001b[38;5;241m.\u001b[39mfind_all(\u001b[38;5;124m'\u001b[39m\u001b[38;5;124mdiv\u001b[39m\u001b[38;5;124m'\u001b[39m,{\u001b[38;5;124m\"\u001b[39m\u001b[38;5;124mclass\u001b[39m\u001b[38;5;124m\"\u001b[39m:\u001b[38;5;124m'\u001b[39m\u001b[38;5;124m'\u001b[39m})[\u001b[38;5;241m0\u001b[39m]\u001b[38;5;241m.\u001b[39mdiv\u001b[38;5;241m.\u001b[39mtext)\n",
      "\u001b[0;31mAttributeError\u001b[0m: 'NoneType' object has no attribute 'div'"
     ]
    }
   ],
   "source": [
    "for i in comment_box:\n",
    "    print('')\n",
    "    print(i.div.div.find_all('div',{\"class\":''})[0].div.text)"
   ]
  },
  {
   "cell_type": "code",
   "execution_count": 164,
   "id": "d1d67bb6-0df2-4d65-b859-1ddc4ac1a18f",
   "metadata": {},
   "outputs": [
    {
     "name": "stdout",
     "output_type": "stream",
     "text": [
      "https://www.flipkart.com/apple-iphone-12-pro-gold-512-gb/p/itm157b3be191fd1?pid=MOBFWBYZGKFYVTWH&lid=LSTMOBFWBYZGKFYVTWHR65UKC&marketplace=FLIPKART&q=iphone12pro&store=tyy%2F4io&srno=s_1_2&otracker=search&fm=organic&iid=35c5d552-cc8c-484f-90c0-18165c6ac87d.MOBFWBYZGKFYVTWH.SEARCH&ppt=None&ppn=None&ssid=trayitpan40000001694629433959&qH=712933e6bd68e7b9\n",
      "https://www.flipkart.com/apple-iphone-12-pro-max-graphite-128-gb/p/itm973c298184f51?pid=MOBFWBYZFDGQSDWS&lid=LSTMOBFWBYZFDGQSDWS6UBAEI&marketplace=FLIPKART&q=iphone12pro&store=tyy%2F4io&srno=s_1_3&otracker=search&fm=organic&iid=35c5d552-cc8c-484f-90c0-18165c6ac87d.MOBFWBYZFDGQSDWS.SEARCH&ppt=None&ppn=None&ssid=trayitpan40000001694629433959&qH=712933e6bd68e7b9\n",
      "https://www.flipkart.com/apple-iphone-12-pro-graphite-256-gb/p/itm4fa4da575698c?pid=MOBFWBYZBA36UB7G&lid=LSTMOBFWBYZBA36UB7GZYS7EA&marketplace=FLIPKART&q=iphone12pro&store=tyy%2F4io&srno=s_1_4&otracker=search&fm=organic&iid=35c5d552-cc8c-484f-90c0-18165c6ac87d.MOBFWBYZBA36UB7G.SEARCH&ppt=None&ppn=None&ssid=trayitpan40000001694629433959&qH=712933e6bd68e7b9\n",
      "https://www.flipkart.com/apple-iphone-12-pro-graphite-512-gb/p/itmdf0ffb4f2150f?pid=MOBFWBYZ4ZZ5VUQD&lid=LSTMOBFWBYZ4ZZ5VUQDSMPMJK&marketplace=FLIPKART&q=iphone12pro&store=tyy%2F4io&srno=s_1_5&otracker=search&fm=organic&iid=35c5d552-cc8c-484f-90c0-18165c6ac87d.MOBFWBYZ4ZZ5VUQD.SEARCH&ppt=None&ppn=None&ssid=trayitpan40000001694629433959&qH=712933e6bd68e7b9\n",
      "https://www.flipkart.com/apple-iphone-12-pro-max-gold-512-gb/p/itmd164e2fef2871?pid=MOBFWBYZ4AG3FGNW&lid=LSTMOBFWBYZ4AG3FGNWL6UEHL&marketplace=FLIPKART&q=iphone12pro&store=tyy%2F4io&srno=s_1_6&otracker=search&fm=organic&iid=35c5d552-cc8c-484f-90c0-18165c6ac87d.MOBFWBYZ4AG3FGNW.SEARCH&ppt=None&ppn=None&ssid=trayitpan40000001694629433959&qH=712933e6bd68e7b9\n",
      "https://www.flipkart.com/apple-iphone-12-pro-pacific-blue-512-gb/p/itm8a39d6779b04e?pid=MOBFWBYZTHSXKMGW&lid=LSTMOBFWBYZTHSXKMGWYPOFI5&marketplace=FLIPKART&q=iphone12pro&store=tyy%2F4io&srno=s_1_7&otracker=search&fm=organic&iid=35c5d552-cc8c-484f-90c0-18165c6ac87d.MOBFWBYZTHSXKMGW.SEARCH&ppt=None&ppn=None&ssid=trayitpan40000001694629433959&qH=712933e6bd68e7b9\n",
      "https://www.flipkart.com/apple-iphone-12-pro-silver-256-gb/p/itm41ac927e82906?pid=MOBFWBYZMZTJZTWK&lid=LSTMOBFWBYZMZTJZTWKDI2TP0&marketplace=FLIPKART&q=iphone12pro&store=tyy%2F4io&srno=s_1_8&otracker=search&fm=organic&iid=35c5d552-cc8c-484f-90c0-18165c6ac87d.MOBFWBYZMZTJZTWK.SEARCH&ppt=None&ppn=None&ssid=trayitpan40000001694629433959&qH=712933e6bd68e7b9\n",
      "https://www.flipkart.com/apple-iphone-12-pro-max-gold-256-gb/p/itm1e0354f5bbc8c?pid=MOBFWBYZZPW8JHQF&lid=LSTMOBFWBYZZPW8JHQFVJR3PO&marketplace=FLIPKART&q=iphone12pro&store=tyy%2F4io&srno=s_1_9&otracker=search&fm=organic&iid=35c5d552-cc8c-484f-90c0-18165c6ac87d.MOBFWBYZZPW8JHQF.SEARCH&ppt=None&ppn=None&ssid=trayitpan40000001694629433959&qH=712933e6bd68e7b9\n",
      "https://www.flipkart.com/apple-iphone-12-pro-gold-256-gb/p/itm43a6a8ee7a1e7?pid=MOBFWBYZ9NGKZS9W&lid=LSTMOBFWBYZ9NGKZS9WYZ2SXA&marketplace=FLIPKART&q=iphone12pro&store=tyy%2F4io&srno=s_1_10&otracker=search&fm=organic&iid=35c5d552-cc8c-484f-90c0-18165c6ac87d.MOBFWBYZ9NGKZS9W.SEARCH&ppt=None&ppn=None&ssid=trayitpan40000001694629433959&qH=712933e6bd68e7b9\n",
      "https://www.flipkart.com/apple-iphone-12-pro-pacific-blue-256-gb/p/itmea897274baa30?pid=MOBFWBYZVRPH2UCD&lid=LSTMOBFWBYZVRPH2UCDHPQUAR&marketplace=FLIPKART&q=iphone12pro&store=tyy%2F4io&srno=s_1_11&otracker=search&fm=organic&iid=35c5d552-cc8c-484f-90c0-18165c6ac87d.MOBFWBYZVRPH2UCD.SEARCH&ppt=None&ppn=None&ssid=trayitpan40000001694629433959&qH=712933e6bd68e7b9\n",
      "https://www.flipkart.com/apple-iphone-12-pro-max-silver-128-gb/p/itm5a51ba742a17e?pid=MOBFWBYZNSNVGGZC&lid=LSTMOBFWBYZNSNVGGZCTPGZZU&marketplace=FLIPKART&q=iphone12pro&store=tyy%2F4io&srno=s_1_12&otracker=search&fm=organic&iid=35c5d552-cc8c-484f-90c0-18165c6ac87d.MOBFWBYZNSNVGGZC.SEARCH&ppt=None&ppn=None&ssid=trayitpan40000001694629433959&qH=712933e6bd68e7b9\n",
      "https://www.flipkart.com/apple-iphone-12-pro-max-pacific-blue-512-gb/p/itme005d7afeb4a3?pid=MOBFWBYZPW4KW4XX&lid=LSTMOBFWBYZPW4KW4XXXYHC14&marketplace=FLIPKART&q=iphone12pro&store=tyy%2F4io&srno=s_1_13&otracker=search&fm=organic&iid=35c5d552-cc8c-484f-90c0-18165c6ac87d.MOBFWBYZPW4KW4XX.SEARCH&ppt=None&ppn=None&ssid=trayitpan40000001694629433959&qH=712933e6bd68e7b9\n",
      "https://www.flipkart.com/apple-iphone-12-pro-max-silver-512-gb/p/itm5d3d37892544f?pid=MOBFWBYZW38NGPNM&lid=LSTMOBFWBYZW38NGPNMW4SVPI&marketplace=FLIPKART&q=iphone12pro&store=tyy%2F4io&srno=s_1_14&otracker=search&fm=organic&iid=35c5d552-cc8c-484f-90c0-18165c6ac87d.MOBFWBYZW38NGPNM.SEARCH&ppt=None&ppn=None&ssid=trayitpan40000001694629433959&qH=712933e6bd68e7b9\n",
      "https://www.flipkart.com/apple-iphone-12-pro-max-gold-128-gb/p/itme3ae592065711?pid=MOBFWBYZQVKT77YH&lid=LSTMOBFWBYZQVKT77YHP1ERRT&marketplace=FLIPKART&q=iphone12pro&store=tyy%2F4io&srno=s_1_15&otracker=search&fm=organic&iid=35c5d552-cc8c-484f-90c0-18165c6ac87d.MOBFWBYZQVKT77YH.SEARCH&ppt=None&ppn=None&ssid=trayitpan40000001694629433959&qH=712933e6bd68e7b9\n",
      "https://www.flipkart.com/apple-iphone-12-pro-max-silver-256-gb/p/itm30faf74442adb?pid=MOBFWBYZZH4AM8FE&lid=LSTMOBFWBYZZH4AM8FETYFBOG&marketplace=FLIPKART&q=iphone12pro&store=tyy%2F4io&srno=s_1_16&otracker=search&fm=organic&iid=35c5d552-cc8c-484f-90c0-18165c6ac87d.MOBFWBYZZH4AM8FE.SEARCH&ppt=None&ppn=None&ssid=trayitpan40000001694629433959&qH=712933e6bd68e7b9\n",
      "https://www.flipkart.com/apple-iphone-12-pro-gold-128-gb/p/itma14a108237af5?pid=MOBFWBYZMDJZMHA9&lid=LSTMOBFWBYZMDJZMHA9SVNUXV&marketplace=FLIPKART&q=iphone12pro&store=tyy%2F4io&srno=s_1_17&otracker=search&fm=organic&iid=35c5d552-cc8c-484f-90c0-18165c6ac87d.MOBFWBYZMDJZMHA9.SEARCH&ppt=None&ppn=None&ssid=trayitpan40000001694629433959&qH=712933e6bd68e7b9\n",
      "https://www.flipkart.com/apple-iphone-12-pro-graphite-128-gb/p/itm03e5f2595d843?pid=MOBFWBYZBZ7Y56WD&lid=LSTMOBFWBYZBZ7Y56WDFWEMSD&marketplace=FLIPKART&q=iphone12pro&store=tyy%2F4io&srno=s_1_18&otracker=search&fm=organic&iid=35c5d552-cc8c-484f-90c0-18165c6ac87d.MOBFWBYZBZ7Y56WD.SEARCH&ppt=None&ppn=None&ssid=trayitpan40000001694629433959&qH=712933e6bd68e7b9\n",
      "https://www.flipkart.com/apple-iphone-12-pro-pacific-blue-128-gb/p/itm97c833296c221?pid=MOBFWBYZXYSCEEEH&lid=LSTMOBFWBYZXYSCEEEHLGQLJT&marketplace=FLIPKART&q=iphone12pro&store=tyy%2F4io&srno=s_1_19&otracker=search&fm=organic&iid=35c5d552-cc8c-484f-90c0-18165c6ac87d.MOBFWBYZXYSCEEEH.SEARCH&ppt=None&ppn=None&ssid=trayitpan40000001694629433959&qH=712933e6bd68e7b9\n",
      "https://www.flipkart.com/apple-iphone-12-pro-max-pacific-blue-256-gb/p/itm3a0860c94250e?pid=MOBFWBYZ8STJXCVT&lid=LSTMOBFWBYZ8STJXCVTQTZADP&marketplace=FLIPKART&q=iphone12pro&store=tyy%2F4io&srno=s_1_20&otracker=search&fm=organic&iid=35c5d552-cc8c-484f-90c0-18165c6ac87d.MOBFWBYZ8STJXCVT.SEARCH&ppt=None&ppn=None&ssid=trayitpan40000001694629433959&qH=712933e6bd68e7b9\n",
      "https://www.flipkart.com/apple-iphone-12-pro-max-graphite-512-gb/p/itm52a5e8e630441?pid=MOBFWBYZZZ6DWWFZ&lid=LSTMOBFWBYZZZ6DWWFZJWJVPK&marketplace=FLIPKART&q=iphone12pro&store=tyy%2F4io&srno=s_1_21&otracker=search&fm=organic&iid=35c5d552-cc8c-484f-90c0-18165c6ac87d.MOBFWBYZZZ6DWWFZ.SEARCH&ppt=None&ppn=None&ssid=trayitpan40000001694629433959&qH=712933e6bd68e7b9\n",
      "https://www.flipkart.com/apple-iphone-12-pro-max-pacific-blue-128-gb/p/itmd89812b558a03?pid=MOBFWBYZZABKHZQA&lid=LSTMOBFWBYZZABKHZQATE6G93&marketplace=FLIPKART&q=iphone12pro&store=tyy%2F4io&srno=s_1_22&otracker=search&fm=organic&iid=35c5d552-cc8c-484f-90c0-18165c6ac87d.MOBFWBYZZABKHZQA.SEARCH&ppt=None&ppn=None&ssid=trayitpan40000001694629433959&qH=712933e6bd68e7b9\n",
      "https://www.flipkart.com/apple-iphone-12-pro-max-graphite-256-gb/p/itm8dbdf0b986725?pid=MOBFWBYZEF6XQ5ZW&lid=LSTMOBFWBYZEF6XQ5ZWBZ3ZKD&marketplace=FLIPKART&q=iphone12pro&store=tyy%2F4io&srno=s_1_23&otracker=search&fm=organic&iid=35c5d552-cc8c-484f-90c0-18165c6ac87d.MOBFWBYZEF6XQ5ZW.SEARCH&ppt=None&ppn=None&ssid=trayitpan40000001694629433959&qH=712933e6bd68e7b9\n",
      "https://www.flipkart.com/apple-iphone-12-pro-silver-128-gb/p/itmaebc8a0edc292?pid=MOBFWBYZSGN526X4&lid=LSTMOBFWBYZSGN526X4XSCKOE&marketplace=FLIPKART&q=iphone12pro&store=tyy%2F4io&srno=s_1_24&otracker=search&fm=organic&iid=35c5d552-cc8c-484f-90c0-18165c6ac87d.MOBFWBYZSGN526X4.SEARCH&ppt=None&ppn=None&ssid=trayitpan40000001694629433959&qH=712933e6bd68e7b9\n"
     ]
    },
    {
     "ename": "AttributeError",
     "evalue": "'NoneType' object has no attribute 'a'",
     "output_type": "error",
     "traceback": [
      "\u001b[0;31m---------------------------------------------------------------------------\u001b[0m",
      "\u001b[0;31mAttributeError\u001b[0m                            Traceback (most recent call last)",
      "Cell \u001b[0;32mIn[164], line 2\u001b[0m\n\u001b[1;32m      1\u001b[0m \u001b[38;5;28;01mfor\u001b[39;00m i \u001b[38;5;129;01min\u001b[39;00m bigbox:\n\u001b[0;32m----> 2\u001b[0m     \u001b[38;5;28mprint\u001b[39m(\u001b[38;5;124m\"\u001b[39m\u001b[38;5;124mhttps://www.flipkart.com\u001b[39m\u001b[38;5;124m\"\u001b[39m \u001b[38;5;241m+\u001b[39m\u001b[43mi\u001b[49m\u001b[38;5;241;43m.\u001b[39;49m\u001b[43mdiv\u001b[49m\u001b[38;5;241;43m.\u001b[39;49m\u001b[43mdiv\u001b[49m\u001b[38;5;241;43m.\u001b[39;49m\u001b[43mdiv\u001b[49m\u001b[38;5;241;43m.\u001b[39;49m\u001b[43ma\u001b[49m[\u001b[38;5;124m'\u001b[39m\u001b[38;5;124mhref\u001b[39m\u001b[38;5;124m'\u001b[39m])\n",
      "\u001b[0;31mAttributeError\u001b[0m: 'NoneType' object has no attribute 'a'"
     ]
    }
   ],
   "source": [
    "for i in bigbox:\n",
    "    print(\"https://www.flipkart.com\" +i.div.div.div.a['href'])"
   ]
  },
  {
   "cell_type": "code",
   "execution_count": null,
   "id": "0b0bebf6-70d7-474e-b4a7-2030243127ba",
   "metadata": {},
   "outputs": [],
   "source": []
  }
 ],
 "metadata": {
  "kernelspec": {
   "display_name": "Python 3 (ipykernel)",
   "language": "python",
   "name": "python3"
  },
  "language_info": {
   "codemirror_mode": {
    "name": "ipython",
    "version": 3
   },
   "file_extension": ".py",
   "mimetype": "text/x-python",
   "name": "python",
   "nbconvert_exporter": "python",
   "pygments_lexer": "ipython3",
   "version": "3.10.8"
  }
 },
 "nbformat": 4,
 "nbformat_minor": 5
}
